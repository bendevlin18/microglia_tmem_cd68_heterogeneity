{
 "cells": [
  {
   "cell_type": "markdown",
   "id": "ordered-chapter",
   "metadata": {},
   "source": [
    "## Step 1: Import the necessary packages\n",
    "\n",
    "import numpy as np\n",
    "\n",
    "import pandas as pd\n",
    "\n",
    "import os\n",
    "\n",
    "import matplotlib.pyplot as plt"
   ]
  },
  {
   "cell_type": "markdown",
   "id": "rocky-bachelor",
   "metadata": {},
   "source": [
    "## Step 2: Read in the blocking_ab_image_data excel/csv file as a dataframe using pandas"
   ]
  },
  {
   "cell_type": "markdown",
   "id": "weekly-exchange",
   "metadata": {},
   "source": [
    "## Step 3: Make new columns and fill them with information for the following 3 variables:\n",
    "        \n",
    "image_id\n",
    "\n",
    "channel\n",
    "\n",
    "animal_id"
   ]
  },
  {
   "cell_type": "markdown",
   "id": "returning-berlin",
   "metadata": {},
   "source": [
    "## Step 4: Create a new column \"norm_mean\" that is the mean column divided by the area column"
   ]
  },
  {
   "cell_type": "markdown",
   "id": "located-twenty",
   "metadata": {},
   "source": [
    "## Step 5: Create separate dataframes for each channel \n",
    "(tmem_df is channel 3, iba1_df is channel 4, and cd68_df is channel 2)"
   ]
  },
  {
   "cell_type": "markdown",
   "id": "unusual-olive",
   "metadata": {},
   "source": [
    "## Step 6: Create a normalized mean column in the tmem df and cd68 df by subtracting the iba1 value from relevant channel's values "
   ]
  },
  {
   "cell_type": "markdown",
   "id": "planned-hunger",
   "metadata": {},
   "source": [
    "## Step 7: Combine the tmem df and cd68 into a master final dataframe"
   ]
  },
  {
   "cell_type": "code",
   "execution_count": null,
   "id": "fundamental-fantasy",
   "metadata": {},
   "outputs": [],
   "source": []
  }
 ],
 "metadata": {
  "kernelspec": {
   "display_name": "Python 3",
   "language": "python",
   "name": "python3"
  },
  "language_info": {
   "codemirror_mode": {
    "name": "ipython",
    "version": 3
   },
   "file_extension": ".py",
   "mimetype": "text/x-python",
   "name": "python",
   "nbconvert_exporter": "python",
   "pygments_lexer": "ipython3",
   "version": "3.7.9"
  }
 },
 "nbformat": 4,
 "nbformat_minor": 5
}
